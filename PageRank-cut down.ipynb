{
 "cells": [
  {
   "cell_type": "code",
   "execution_count": 2,
   "metadata": {},
   "outputs": [],
   "source": [
    "# PACKAGE\n",
    "# Here are the imports again, just in case you need them.\n",
    "# There is no need to edit or submit this cell.\n",
    "import numpy as np\n",
    "import numpy.linalg as la\n",
    "#from readonly.PageRankFunctions import *\n",
    "np.set_printoptions(suppress=True)"
   ]
  },
  {
   "cell_type": "code",
   "execution_count": null,
   "metadata": {},
   "outputs": [],
   "source": [
    "# GRADED FUNCTION\n",
    "# Complete this function to provide the PageRank for an arbitrarily sized internet.\n",
    "# I.e. the principal eigenvector of the damped system, using the power iteration method.\n",
    "# (Normalisation doesn't matter here)\n",
    "# The functions inputs are the linkMatrix, and d the damping parameter - as defined in this worksheet.\n",
    "# (The damping parameter, d, will be set by the function - no need to set this yourself.)\n",
    "def pageRank(linkMatrix, d) :\n",
    "    n = linkMatrix.shape[0]\n",
    "    L = linkMatrix\n",
    "   \n",
    "    #correct the matrix for the damping factor\n",
    "    M = d * L + (1-d)/n * np.ones([7, 7])\n",
    "\n",
    "    #iterate through to find the vector r\n",
    "    r = 100 * np.ones(n) / n # Sets up this vector\n",
    "    for i in np.arange(100) : # Repeat 100 times\n",
    "        r = L @ r\n",
    "\n",
    "    \n",
    "    return r\n",
    "\n",
    "#beyond here is me testing the function\n",
    "L2 = np.array([[0,   1/2, 1/3, 0, 0,   0,   0 ],\n",
    "               [1/3, 0,   0,   0, 1/2, 1/5, 0 ],\n",
    "               [1/3, 1/2, 0,   1, 0,   1/5, 0 ],\n",
    "               [1/3, 0,   1/3, 0, 1/2, 1/5, 0 ],\n",
    "               [0,   0,   0,   0, 0,   1/5, 0 ],\n",
    "               [0,   0,   1/3, 0, 0,   1/5, 0 ],\n",
    "               [0,   0,   0,   0, 0,   1/5, 1 ]])\n",
    "print(pageRank(L2,0.5))"
   ]
  }
 ],
 "metadata": {
  "coursera": {
   "course_slug": "linear-algebra-machine-learning",
   "graded_item_id": "Sfbnp",
   "launcher_item_id": "aPxf3"
  },
  "kernelspec": {
   "display_name": "Python 3",
   "language": "python",
   "name": "python3"
  },
  "language_info": {
   "codemirror_mode": {
    "name": "ipython",
    "version": 3
   },
   "file_extension": ".py",
   "mimetype": "text/x-python",
   "name": "python",
   "nbconvert_exporter": "python",
   "pygments_lexer": "ipython3",
   "version": "3.7.1"
  }
 },
 "nbformat": 4,
 "nbformat_minor": 1
}
