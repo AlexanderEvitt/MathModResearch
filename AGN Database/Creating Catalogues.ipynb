{
 "cells": [
  {
   "cell_type": "code",
   "execution_count": 6,
   "metadata": {},
   "outputs": [],
   "source": [
    "import numpy as np\n",
    "from astropy.io import fits\n",
    "import pandas as pd\n",
    "import matplotlib\n",
    "import matplotlib.pyplot as plt\n",
    "file = 'Gaia_unWISE_AGNs.fits'\n",
    "\n",
    "hdu_list = fits.open(file)\n",
    "data = hdu_list[1].data\n",
    "hdr = hdu_list[1].header\n",
    "def fill_catalogue(probabilitycutoff,brightnesscutoff,file):\n",
    "    data = hdu_list[1].data\n",
    "    mask2 = data['PROB_RF'] > probabilitycutoff\n",
    "    newerdata = data[mask2]\n",
    "    mask3 = newerdata['G'] < brightnesscutoff\n",
    "    newestdata = newerdata[mask3]\n",
    "    f = open(file, 'w')\n",
    "    np.savetxt(file, newestdata,  fmt='%s', delimiter=',')\n",
    "    f.close()\n",
    "    \n",
    "fill_catalogue(0.939,18,'agn_catalogue2.csv')"
   ]
  },
  {
   "cell_type": "code",
   "execution_count": null,
   "metadata": {},
   "outputs": [],
   "source": []
  }
 ],
 "metadata": {
  "kernelspec": {
   "display_name": "Python 3",
   "language": "python",
   "name": "python3"
  },
  "language_info": {
   "codemirror_mode": {
    "name": "ipython",
    "version": 3
   },
   "file_extension": ".py",
   "mimetype": "text/x-python",
   "name": "python",
   "nbconvert_exporter": "python",
   "pygments_lexer": "ipython3",
   "version": "3.7.4"
  }
 },
 "nbformat": 4,
 "nbformat_minor": 4
}
